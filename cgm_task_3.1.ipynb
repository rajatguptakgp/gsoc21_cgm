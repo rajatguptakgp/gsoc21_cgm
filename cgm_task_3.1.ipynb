{
 "cells": [
  {
   "cell_type": "code",
   "execution_count": 2,
   "metadata": {
    "id": "6_8eGkEW71Vj"
   },
   "outputs": [],
   "source": [
    "import numpy as np\n",
    "import pandas as pd\n",
    "import seaborn as sns\n",
    "import matplotlib.pyplot as plt\n",
    "\n",
    "from sklearn.linear_model import LogisticRegression\n",
    "from sklearn.discriminant_analysis import LinearDiscriminantAnalysis\n",
    "from lightgbm import LGBMClassifier\n",
    "\n",
    "from sklearn.model_selection import train_test_split, RandomizedSearchCV\n",
    "from sklearn.metrics import roc_auc_score\n",
    "\n",
    "import tensorflow as tf\n",
    "from tensorflow.keras import layers, losses, metrics\n",
    "from tensorflow.keras.models import Model\n",
    "from tensorflow.keras.callbacks import ReduceLROnPlateau, EarlyStopping"
   ]
  },
  {
   "cell_type": "code",
   "execution_count": 2,
   "metadata": {
    "colab": {
     "base_uri": "https://localhost:8080/"
    },
    "id": "is_3vesO7-iD",
    "outputId": "f4d1dd29-a47b-4034-c7f3-4da23fb7f7ac"
   },
   "outputs": [
    {
     "name": "stdout",
     "output_type": "stream",
     "text": [
      "Drive already mounted at /content/drive; to attempt to forcibly remount, call drive.mount(\"/content/drive\", force_remount=True).\n"
     ]
    }
   ],
   "source": [
    "from google.colab import drive\n",
    "drive.mount('/content/drive')"
   ]
  },
  {
   "cell_type": "code",
   "execution_count": 3,
   "metadata": {
    "colab": {
     "base_uri": "https://localhost:8080/"
    },
    "id": "atCb-BaL71WE",
    "outputId": "b3d40422-c5eb-4960-f061-01d4d88122b1"
   },
   "outputs": [
    {
     "name": "stdout",
     "output_type": "stream",
     "text": [
      "Wall time: 41.1 s\n"
     ]
    },
    {
     "data": {
      "text/plain": [
       "(6000000, 29)"
      ]
     },
     "execution_count": 3,
     "metadata": {},
     "output_type": "execute_result"
    }
   ],
   "source": [
    "%%time\n",
    "\n",
    "df = pd.read_csv('HIGGS_6M.csv', header=None)\n",
    "df.shape"
   ]
  },
  {
   "cell_type": "code",
   "execution_count": 4,
   "metadata": {
    "colab": {
     "base_uri": "https://localhost:8080/",
     "height": 222
    },
    "id": "LzaDIfVK71WH",
    "outputId": "30a4e3cf-442b-4287-b218-b66990d95d17"
   },
   "outputs": [
    {
     "data": {
      "text/html": [
       "<div>\n",
       "<style scoped>\n",
       "    .dataframe tbody tr th:only-of-type {\n",
       "        vertical-align: middle;\n",
       "    }\n",
       "\n",
       "    .dataframe tbody tr th {\n",
       "        vertical-align: top;\n",
       "    }\n",
       "\n",
       "    .dataframe thead th {\n",
       "        text-align: right;\n",
       "    }\n",
       "</style>\n",
       "<table border=\"1\" class=\"dataframe\">\n",
       "  <thead>\n",
       "    <tr style=\"text-align: right;\">\n",
       "      <th></th>\n",
       "      <th>0</th>\n",
       "      <th>1</th>\n",
       "      <th>2</th>\n",
       "      <th>3</th>\n",
       "      <th>4</th>\n",
       "      <th>5</th>\n",
       "      <th>6</th>\n",
       "      <th>7</th>\n",
       "      <th>8</th>\n",
       "      <th>9</th>\n",
       "      <th>...</th>\n",
       "      <th>19</th>\n",
       "      <th>20</th>\n",
       "      <th>21</th>\n",
       "      <th>22</th>\n",
       "      <th>23</th>\n",
       "      <th>24</th>\n",
       "      <th>25</th>\n",
       "      <th>26</th>\n",
       "      <th>27</th>\n",
       "      <th>28</th>\n",
       "    </tr>\n",
       "  </thead>\n",
       "  <tbody>\n",
       "    <tr>\n",
       "      <th>0</th>\n",
       "      <td>1.0</td>\n",
       "      <td>0.869293</td>\n",
       "      <td>-0.635082</td>\n",
       "      <td>0.225690</td>\n",
       "      <td>0.327470</td>\n",
       "      <td>-0.689993</td>\n",
       "      <td>0.754202</td>\n",
       "      <td>-0.248573</td>\n",
       "      <td>-1.092064</td>\n",
       "      <td>0.000000</td>\n",
       "      <td>...</td>\n",
       "      <td>-0.010455</td>\n",
       "      <td>-0.045767</td>\n",
       "      <td>3.101961</td>\n",
       "      <td>1.353760</td>\n",
       "      <td>0.979563</td>\n",
       "      <td>0.978076</td>\n",
       "      <td>0.920005</td>\n",
       "      <td>0.721657</td>\n",
       "      <td>0.988751</td>\n",
       "      <td>0.876678</td>\n",
       "    </tr>\n",
       "    <tr>\n",
       "      <th>1</th>\n",
       "      <td>1.0</td>\n",
       "      <td>0.907542</td>\n",
       "      <td>0.329147</td>\n",
       "      <td>0.359412</td>\n",
       "      <td>1.497970</td>\n",
       "      <td>-0.313010</td>\n",
       "      <td>1.095531</td>\n",
       "      <td>-0.557525</td>\n",
       "      <td>-1.588230</td>\n",
       "      <td>2.173076</td>\n",
       "      <td>...</td>\n",
       "      <td>-1.138930</td>\n",
       "      <td>-0.000819</td>\n",
       "      <td>0.000000</td>\n",
       "      <td>0.302220</td>\n",
       "      <td>0.833048</td>\n",
       "      <td>0.985700</td>\n",
       "      <td>0.978098</td>\n",
       "      <td>0.779732</td>\n",
       "      <td>0.992356</td>\n",
       "      <td>0.798343</td>\n",
       "    </tr>\n",
       "    <tr>\n",
       "      <th>2</th>\n",
       "      <td>1.0</td>\n",
       "      <td>0.798835</td>\n",
       "      <td>1.470639</td>\n",
       "      <td>-1.635975</td>\n",
       "      <td>0.453773</td>\n",
       "      <td>0.425629</td>\n",
       "      <td>1.104875</td>\n",
       "      <td>1.282322</td>\n",
       "      <td>1.381664</td>\n",
       "      <td>0.000000</td>\n",
       "      <td>...</td>\n",
       "      <td>1.128848</td>\n",
       "      <td>0.900461</td>\n",
       "      <td>0.000000</td>\n",
       "      <td>0.909753</td>\n",
       "      <td>1.108330</td>\n",
       "      <td>0.985692</td>\n",
       "      <td>0.951331</td>\n",
       "      <td>0.803252</td>\n",
       "      <td>0.865924</td>\n",
       "      <td>0.780118</td>\n",
       "    </tr>\n",
       "    <tr>\n",
       "      <th>3</th>\n",
       "      <td>0.0</td>\n",
       "      <td>1.344385</td>\n",
       "      <td>-0.876626</td>\n",
       "      <td>0.935913</td>\n",
       "      <td>1.992050</td>\n",
       "      <td>0.882454</td>\n",
       "      <td>1.786066</td>\n",
       "      <td>-1.646778</td>\n",
       "      <td>-0.942383</td>\n",
       "      <td>0.000000</td>\n",
       "      <td>...</td>\n",
       "      <td>-0.678379</td>\n",
       "      <td>-1.360356</td>\n",
       "      <td>0.000000</td>\n",
       "      <td>0.946652</td>\n",
       "      <td>1.028704</td>\n",
       "      <td>0.998656</td>\n",
       "      <td>0.728281</td>\n",
       "      <td>0.869200</td>\n",
       "      <td>1.026736</td>\n",
       "      <td>0.957904</td>\n",
       "    </tr>\n",
       "    <tr>\n",
       "      <th>4</th>\n",
       "      <td>1.0</td>\n",
       "      <td>1.105009</td>\n",
       "      <td>0.321356</td>\n",
       "      <td>1.522401</td>\n",
       "      <td>0.882808</td>\n",
       "      <td>-1.205349</td>\n",
       "      <td>0.681466</td>\n",
       "      <td>-1.070464</td>\n",
       "      <td>-0.921871</td>\n",
       "      <td>0.000000</td>\n",
       "      <td>...</td>\n",
       "      <td>-0.373566</td>\n",
       "      <td>0.113041</td>\n",
       "      <td>0.000000</td>\n",
       "      <td>0.755856</td>\n",
       "      <td>1.361057</td>\n",
       "      <td>0.986610</td>\n",
       "      <td>0.838085</td>\n",
       "      <td>1.133295</td>\n",
       "      <td>0.872245</td>\n",
       "      <td>0.808487</td>\n",
       "    </tr>\n",
       "  </tbody>\n",
       "</table>\n",
       "<p>5 rows × 29 columns</p>\n",
       "</div>"
      ],
      "text/plain": [
       "    0         1         2         3         4         5         6         7   \\\n",
       "0  1.0  0.869293 -0.635082  0.225690  0.327470 -0.689993  0.754202 -0.248573   \n",
       "1  1.0  0.907542  0.329147  0.359412  1.497970 -0.313010  1.095531 -0.557525   \n",
       "2  1.0  0.798835  1.470639 -1.635975  0.453773  0.425629  1.104875  1.282322   \n",
       "3  0.0  1.344385 -0.876626  0.935913  1.992050  0.882454  1.786066 -1.646778   \n",
       "4  1.0  1.105009  0.321356  1.522401  0.882808 -1.205349  0.681466 -1.070464   \n",
       "\n",
       "         8         9   ...        19        20        21        22        23  \\\n",
       "0 -1.092064  0.000000  ... -0.010455 -0.045767  3.101961  1.353760  0.979563   \n",
       "1 -1.588230  2.173076  ... -1.138930 -0.000819  0.000000  0.302220  0.833048   \n",
       "2  1.381664  0.000000  ...  1.128848  0.900461  0.000000  0.909753  1.108330   \n",
       "3 -0.942383  0.000000  ... -0.678379 -1.360356  0.000000  0.946652  1.028704   \n",
       "4 -0.921871  0.000000  ... -0.373566  0.113041  0.000000  0.755856  1.361057   \n",
       "\n",
       "         24        25        26        27        28  \n",
       "0  0.978076  0.920005  0.721657  0.988751  0.876678  \n",
       "1  0.985700  0.978098  0.779732  0.992356  0.798343  \n",
       "2  0.985692  0.951331  0.803252  0.865924  0.780118  \n",
       "3  0.998656  0.728281  0.869200  1.026736  0.957904  \n",
       "4  0.986610  0.838085  1.133295  0.872245  0.808487  \n",
       "\n",
       "[5 rows x 29 columns]"
      ]
     },
     "execution_count": 4,
     "metadata": {},
     "output_type": "execute_result"
    }
   ],
   "source": [
    "df.head()"
   ]
  },
  {
   "cell_type": "code",
   "execution_count": 4,
   "metadata": {
    "colab": {
     "base_uri": "https://localhost:8080/",
     "height": 596
    },
    "id": "oe10i5uB71WI",
    "outputId": "e8370a95-c2b5-4284-f723-aec8e33bc91e"
   },
   "outputs": [
    {
     "data": {
      "image/png": "[encoded data removed]",
      "text/plain": [
       "<Figure size 1440x720 with 2 Axes>"
      ]
     },
     "metadata": {
      "needs_background": "light"
     },
     "output_type": "display_data"
    }
   ],
   "source": [
    "fig = plt.figure(figsize=(20,10))\n",
    "\n",
    "sns.heatmap(df.corr())\n",
    "plt.show()"
   ]
  },
  {
   "cell_type": "markdown",
   "metadata": {
    "id": "rI12oN4I71WK"
   },
   "source": [
    "**We notice that features 27 and 28 are highly correlated. Likewise, features 22 and 23 are highly correlated as well.**"
   ]
  },
  {
   "cell_type": "code",
   "execution_count": 5,
   "metadata": {
    "id": "6pQq05cb71WL"
   },
   "outputs": [],
   "source": [
    "cols = list(df.columns)\n",
    "cols.remove(0)"
   ]
  },
  {
   "cell_type": "code",
   "execution_count": 6,
   "metadata": {
    "colab": {
     "base_uri": "https://localhost:8080/"
    },
    "id": "o-65RAyJ71WM",
    "outputId": "8bd562ed-aeba-4d74-a143-2678916b4134"
   },
   "outputs": [
    {
     "data": {
      "text/plain": [
       "((5950000, 28), (5950000,), (50000, 28), (50000,))"
      ]
     },
     "execution_count": 6,
     "metadata": {},
     "output_type": "execute_result"
    }
   ],
   "source": [
    "TEST_SIZE = 50000\n",
    "train = df.iloc[:-TEST_SIZE]\n",
    "test = df.iloc[-TEST_SIZE:]\n",
    "\n",
    "X = train[cols]\n",
    "y = train[0]\n",
    "\n",
    "X_test = test[cols]\n",
    "y_test = test[0]\n",
    "\n",
    "X.shape, y.shape, X_test.shape, y_test.shape"
   ]
  },
  {
   "cell_type": "code",
   "execution_count": 7,
   "metadata": {
    "colab": {
     "base_uri": "https://localhost:8080/"
    },
    "id": "eWpvhuV971WN",
    "outputId": "58744c39-4247-4dbc-e133-e96b39c9e271"
   },
   "outputs": [
    {
     "data": {
      "text/plain": [
       "((4760000, 28), (4760000,), (1190000, 28), (1190000,))"
      ]
     },
     "execution_count": 7,
     "metadata": {},
     "output_type": "execute_result"
    }
   ],
   "source": [
    "X_train, X_val, y_train, y_val = train_test_split(X, y, test_size = 0.2, random_state=0)\n",
    "\n",
    "X_train.shape, y_train.shape, X_val.shape, y_val.shape"
   ]
  },
  {
   "cell_type": "markdown",
   "metadata": {
    "id": "aqvfTuKO71WO"
   },
   "source": [
    "### **Basic Classifiers**"
   ]
  },
  {
   "cell_type": "markdown",
   "metadata": {},
   "source": [
    "Let's look at classification performance for a set of basic classifiers from **Logistic Regression** to **ensemble model (boosting) - Light Gradient Boosting Machine.**\n",
    "\n",
    "Boosting is a technique which improves the **performance of individual weak learners by improving predictive power with every subsequent iteration.** \n",
    "\n",
    "However, gradient boosting machines can be **computationally costly as there are lot of gradients to be optimized**. LGBM is an technique which enables **leaf-wise tree growth** as opposed to GBMs which perform **level-wise tree growth**, and because of this **LGBMs are faster**."
   ]
  },
  {
   "cell_type": "code",
   "execution_count": 9,
   "metadata": {
    "colab": {
     "base_uri": "https://localhost:8080/"
    },
    "id": "Zgv5oNR_71WO",
    "outputId": "6dd5c4bd-d244-46b3-9554-a8dbd79c7829"
   },
   "outputs": [
    {
     "name": "stdout",
     "output_type": "stream",
     "text": [
      "CPU times: user 6min 37s, sys: 19 s, total: 6min 55s\n",
      "Wall time: 3min 59s\n"
     ]
    }
   ],
   "source": [
    "%%time\n",
    "\n",
    "clf1 = LogisticRegression()\n",
    "clf2 = LinearDiscriminantAnalysis()\n",
    "clf3 = LGBMClassifier()\n",
    "\n",
    "SCORES={}\n",
    "for (label, clf) in [('LR',clf1), ('LDA',clf2), ('LGBM',clf3)]:\n",
    "\n",
    "    clf.fit(X, y)\n",
    "    y_pred = clf.predict(X_test)\n",
    "\n",
    "    SCORES[label] = roc_auc_score(y_test, y_pred)"
   ]
  },
  {
   "cell_type": "code",
   "execution_count": 10,
   "metadata": {
    "colab": {
     "base_uri": "https://localhost:8080/",
     "height": 140
    },
    "id": "s2zVWKou71WP",
    "outputId": "2d8d4b12-b2f4-4db3-e7e9-5970c25ebb77"
   },
   "outputs": [
    {
     "data": {
      "text/html": [
       "<div>\n",
       "<style scoped>\n",
       "    .dataframe tbody tr th:only-of-type {\n",
       "        vertical-align: middle;\n",
       "    }\n",
       "\n",
       "    .dataframe tbody tr th {\n",
       "        vertical-align: top;\n",
       "    }\n",
       "\n",
       "    .dataframe thead th {\n",
       "        text-align: right;\n",
       "    }\n",
       "</style>\n",
       "<table border=\"1\" class=\"dataframe\">\n",
       "  <thead>\n",
       "    <tr style=\"text-align: right;\">\n",
       "      <th></th>\n",
       "      <th>AUROC</th>\n",
       "    </tr>\n",
       "  </thead>\n",
       "  <tbody>\n",
       "    <tr>\n",
       "      <th>LR</th>\n",
       "      <td>0.634145</td>\n",
       "    </tr>\n",
       "    <tr>\n",
       "      <th>LDA</th>\n",
       "      <td>0.633155</td>\n",
       "    </tr>\n",
       "    <tr>\n",
       "      <th>LGBM</th>\n",
       "      <td>0.733136</td>\n",
       "    </tr>\n",
       "  </tbody>\n",
       "</table>\n",
       "</div>"
      ],
      "text/plain": [
       "         AUROC\n",
       "LR    0.634145\n",
       "LDA   0.633155\n",
       "LGBM  0.733136"
      ]
     },
     "execution_count": 10,
     "metadata": {
      "tags": []
     },
     "output_type": "execute_result"
    }
   ],
   "source": [
    "results = pd.DataFrame(SCORES.values(), index=SCORES.keys(), columns=['AUROC'])\n",
    "results"
   ]
  },
  {
   "cell_type": "markdown",
   "metadata": {},
   "source": [
    "**LGBM performs better than Logistic Regression and Linear Discriminant Analysis**"
   ]
  },
  {
   "cell_type": "markdown",
   "metadata": {
    "id": "SCgZLn3j71WU"
   },
   "source": [
    "### Neural Network"
   ]
  },
  {
   "cell_type": "code",
   "execution_count": 11,
   "metadata": {
    "colab": {
     "base_uri": "https://localhost:8080/",
     "height": 34
    },
    "id": "b4ojkPHDHhAU",
    "outputId": "bceac853-261c-4b5d-e68b-2b52589ecc68"
   },
   "outputs": [
    {
     "data": {
      "application/vnd.google.colaboratory.intrinsic+json": {
       "type": "string"
      },
      "text/plain": [
       "'/device:GPU:0'"
      ]
     },
     "execution_count": 11,
     "metadata": {
      "tags": []
     },
     "output_type": "execute_result"
    }
   ],
   "source": [
    "tf.test.gpu_device_name()"
   ]
  },
  {
   "cell_type": "code",
   "execution_count": 12,
   "metadata": {
    "id": "avQcY24K71WV"
   },
   "outputs": [],
   "source": [
    "hidden_dim = 10\n",
    "output_dim = 1\n",
    "\n",
    "class MLP(Model):\n",
    "    def __init__(self, hidden_dim, output_dim):\n",
    "        super(MLP, self).__init__()\n",
    "        \n",
    "        self.hidden_dim = hidden_dim\n",
    "        self.output_dim = output_dim\n",
    "        \n",
    "        self.fc1 = tf.keras.Sequential(layers.Dense(hidden_dim, activation='relu'))\n",
    "        self.fc2 = tf.keras.Sequential(layers.Dense(output_dim, activation='sigmoid'))\n",
    "        \n",
    "    def call(self, x):\n",
    "        \n",
    "        hidden = self.fc1(x)\n",
    "        output = self.fc2(hidden)\n",
    "\n",
    "        return output\n",
    "    \n",
    "model = MLP(hidden_dim, output_dim)"
   ]
  },
  {
   "cell_type": "code",
   "execution_count": 13,
   "metadata": {
    "id": "EtEU4nzO71WV"
   },
   "outputs": [],
   "source": [
    "lrop = ReduceLROnPlateau(monitor='val_loss', factor = 0.1, patience = 3)\n",
    "estop = EarlyStopping(monitor='val_loss', patience = 5)\n",
    "\n",
    "model.compile(optimizer = 'adam', loss = losses.BinaryCrossentropy(), metrics = metrics.AUC())"
   ]
  },
  {
   "cell_type": "code",
   "execution_count": 14,
   "metadata": {
    "colab": {
     "base_uri": "https://localhost:8080/"
    },
    "id": "R6O8Z6lL71WW",
    "outputId": "f3834506-a299-49f4-88e4-ffa15210d46d",
    "scrolled": true
   },
   "outputs": [
    {
     "name": "stdout",
     "output_type": "stream",
     "text": [
      "Epoch 1/10\n",
      "148750/148750 [==============================] - 408s 3ms/step - loss: 0.6088 - auc: 0.7250 - val_loss: 0.5746 - val_auc: 0.7706\n",
      "Epoch 2/10\n",
      "148750/148750 [==============================] - 405s 3ms/step - loss: 0.5741 - auc: 0.7690 - val_loss: 0.5720 - val_auc: 0.7724\n",
      "Epoch 3/10\n",
      "148750/148750 [==============================] - 406s 3ms/step - loss: 0.5712 - auc: 0.7720 - val_loss: 0.5694 - val_auc: 0.7737\n",
      "Epoch 4/10\n",
      "148750/148750 [==============================] - 405s 3ms/step - loss: 0.5706 - auc: 0.7724 - val_loss: 0.5705 - val_auc: 0.7746\n",
      "Epoch 5/10\n",
      "148750/148750 [==============================] - 403s 3ms/step - loss: 0.5700 - auc: 0.7730 - val_loss: 0.5703 - val_auc: 0.7751\n",
      "Epoch 6/10\n",
      "148750/148750 [==============================] - 407s 3ms/step - loss: 0.5694 - auc: 0.7737 - val_loss: 0.5695 - val_auc: 0.7738\n",
      "Epoch 7/10\n",
      "148750/148750 [==============================] - 412s 3ms/step - loss: 0.5661 - auc: 0.7770 - val_loss: 0.5653 - val_auc: 0.7780\n",
      "Epoch 8/10\n",
      "148750/148750 [==============================] - 409s 3ms/step - loss: 0.5654 - auc: 0.7776 - val_loss: 0.5651 - val_auc: 0.7781\n",
      "Epoch 9/10\n",
      "148750/148750 [==============================] - 412s 3ms/step - loss: 0.5658 - auc: 0.7773 - val_loss: 0.5649 - val_auc: 0.7781\n",
      "Epoch 10/10\n",
      "148750/148750 [==============================] - 407s 3ms/step - loss: 0.5655 - auc: 0.7776 - val_loss: 0.5652 - val_auc: 0.7781\n"
     ]
    }
   ],
   "source": [
    "history = model.fit(X_train, y_train, epochs = 10, shuffle = True, \n",
    "          validation_data = (X_val, y_val), callbacks = [lrop, estop])"
   ]
  },
  {
   "cell_type": "code",
   "execution_count": 15,
   "metadata": {
    "colab": {
     "base_uri": "https://localhost:8080/",
     "height": 305
    },
    "id": "L1ziyKYy71WX",
    "outputId": "01398145-7757-423a-8e21-704d48734b26"
   },
   "outputs": [
    {
     "data": {
      "image/png": "[encoded data removed]",
      "text/plain": [
       "<Figure size 1440x360 with 3 Axes>"
      ]
     },
     "metadata": {
      "needs_background": "light",
      "tags": []
     },
     "output_type": "display_data"
    }
   ],
   "source": [
    "fig=plt.figure(figsize=(20,5))\n",
    "\n",
    "plt.subplot(131)\n",
    "plt.plot(history.history[\"loss\"], label=\"Training Loss\")\n",
    "plt.title('Training Loss')\n",
    "\n",
    "plt.subplot(132)\n",
    "plt.plot(history.history[\"val_loss\"], label=\"Validation Loss\")\n",
    "plt.title('Validation Loss')\n",
    "\n",
    "plt.subplot(133)\n",
    "\n",
    "plt.plot(history.history[\"loss\"], label=\"Training Loss\")\n",
    "plt.plot(history.history[\"val_loss\"], label=\"Validation Loss\")\n",
    "plt.legend()\n",
    "plt.show()"
   ]
  },
  {
   "cell_type": "markdown",
   "metadata": {},
   "source": [
    "As we notice that **the training and validation loss are close to each other**, this implies that the model is **not overfitting**. \n",
    "\n",
    "Also, in such cases of **large sizes of training data, chances of overfitting reduce** as the model **cannot learn too much to learn the noise in data as well**."
   ]
  },
  {
   "cell_type": "code",
   "execution_count": 16,
   "metadata": {
    "id": "WOmgwQ0L71WY"
   },
   "outputs": [],
   "source": [
    "y_score = model.call(X_test.values).numpy()\n",
    "y_pred = (y_score>=0.5)*1\n",
    "\n",
    "SCORES['NN'] = roc_auc_score(y_test, y_pred)"
   ]
  },
  {
   "cell_type": "code",
   "execution_count": 17,
   "metadata": {
    "colab": {
     "base_uri": "https://localhost:8080/",
     "height": 171
    },
    "id": "XBCtYGQw71WZ",
    "outputId": "19596fff-6552-49e5-aa38-f309f370ef9f"
   },
   "outputs": [
    {
     "data": {
      "text/html": [
       "<div>\n",
       "<style scoped>\n",
       "    .dataframe tbody tr th:only-of-type {\n",
       "        vertical-align: middle;\n",
       "    }\n",
       "\n",
       "    .dataframe tbody tr th {\n",
       "        vertical-align: top;\n",
       "    }\n",
       "\n",
       "    .dataframe thead th {\n",
       "        text-align: right;\n",
       "    }\n",
       "</style>\n",
       "<table border=\"1\" class=\"dataframe\">\n",
       "  <thead>\n",
       "    <tr style=\"text-align: right;\">\n",
       "      <th></th>\n",
       "      <th>AUROC</th>\n",
       "    </tr>\n",
       "  </thead>\n",
       "  <tbody>\n",
       "    <tr>\n",
       "      <th>LR</th>\n",
       "      <td>0.634145</td>\n",
       "    </tr>\n",
       "    <tr>\n",
       "      <th>LDA</th>\n",
       "      <td>0.633155</td>\n",
       "    </tr>\n",
       "    <tr>\n",
       "      <th>LGBM</th>\n",
       "      <td>0.733136</td>\n",
       "    </tr>\n",
       "    <tr>\n",
       "      <th>NN</th>\n",
       "      <td>0.706686</td>\n",
       "    </tr>\n",
       "  </tbody>\n",
       "</table>\n",
       "</div>"
      ],
      "text/plain": [
       "         AUROC\n",
       "LR    0.634145\n",
       "LDA   0.633155\n",
       "LGBM  0.733136\n",
       "NN    0.706686"
      ]
     },
     "execution_count": 17,
     "metadata": {
      "tags": []
     },
     "output_type": "execute_result"
    }
   ],
   "source": [
    "results = pd.DataFrame(SCORES.values(), index=SCORES.keys(), columns=['AUROC'])\n",
    "results"
   ]
  },
  {
   "cell_type": "markdown",
   "metadata": {},
   "source": [
    "Since we have got best results with **LGBM Classifier**, we will plot ROC Curve for it."
   ]
  },
  {
   "cell_type": "code",
   "execution_count": 8,
   "metadata": {
    "id": "qdDvNUJJ71WZ"
   },
   "outputs": [],
   "source": [
    "clf = LGBMClassifier()\n",
    "clf.fit(X, y)\n",
    "\n",
    "y_train_pred = clf.predict(X)\n",
    "y_test_pred = clf.predict(X_test)\n",
    "\n",
    "y_train_score=clf.predict_proba(X)[:,1]\n",
    "y_test_score=clf.predict_proba(X_test)[:,1]"
   ]
  },
  {
   "cell_type": "code",
   "execution_count": 8,
   "metadata": {
    "id": "bcY_VxCeLx2o"
   },
   "outputs": [],
   "source": [
    "def find_outcome(actual_label, predicted_label):\n",
    "    \n",
    "    if (actual_label==predicted_label):\n",
    "        if (actual_label == 1):\n",
    "            return 'TP'\n",
    "        else:\n",
    "            return 'TN'\n",
    "        \n",
    "    else:\n",
    "        if (actual_label == 1):\n",
    "            return 'FN'\n",
    "        else:\n",
    "            return 'FP'\n",
    "        \n",
    "def calculate_roc_metrics(y_test, y_score, threshold):\n",
    "    \n",
    "    y_pred = (y_score>=threshold)*1\n",
    "    outcomes = np.array(list(map(lambda x,y: find_outcome(x,y), y_test, y_pred)))\n",
    "    \n",
    "    tp = sum(outcomes=='TP')\n",
    "    tn = sum(outcomes=='TN')\n",
    "    fp = sum(outcomes=='FP')\n",
    "    fn = sum(outcomes=='FN')\n",
    "    \n",
    "    if tp==0:\n",
    "        tpr=0\n",
    "    else:\n",
    "        tpr = tp/(tp+fn)\n",
    "    \n",
    "    if fp==0:\n",
    "        fpr = 0\n",
    "    else:\n",
    "        fpr = fp/(fp+tn)\n",
    "    \n",
    "    return fpr, tpr        "
   ]
  },
  {
   "cell_type": "code",
   "execution_count": 9,
   "metadata": {
    "id": "WmZfUtp6LzDZ"
   },
   "outputs": [
    {
     "name": "stdout",
     "output_type": "stream",
     "text": [
      "Wall time: 7min 41s\n"
     ]
    }
   ],
   "source": [
    "%%time\n",
    "\n",
    "N_DATAPOINTS = 10\n",
    "thresholds = np.linspace(0, 1, N_DATAPOINTS)\n",
    "\n",
    "train_roc_metrics = np.array(list(map(lambda x: calculate_roc_metrics(y.values, y_train_score, x), thresholds)))\n",
    "test_roc_metrics = np.array(list(map(lambda x: calculate_roc_metrics(y_test.values, y_test_score, x), thresholds)))\n",
    "\n",
    "train_fpr = train_roc_metrics[:,0]\n",
    "train_tpr = train_roc_metrics[:,1]\n",
    "\n",
    "test_fpr = test_roc_metrics[:,0]\n",
    "test_tpr = test_roc_metrics[:,1]"
   ]
  },
  {
   "cell_type": "code",
   "execution_count": 11,
   "metadata": {
    "colab": {
     "base_uri": "https://localhost:8080/",
     "height": 295
    },
    "id": "9Y5bQEpGL0fb",
    "outputId": "417ea39f-7022-4d51-b8e9-63a85d5c2e9a"
   },
   "outputs": [
    {
     "data": {
      "image/png": "[encoded data removed]",
      "text/plain": [
       "<Figure size 1440x720 with 1 Axes>"
      ]
     },
     "metadata": {
      "needs_background": "light"
     },
     "output_type": "display_data"
    }
   ],
   "source": [
    "fig = plt.figure(figsize = (20,10))\n",
    "\n",
    "train_roc_auc = roc_auc_score(y, y_train_pred)\n",
    "test_roc_auc = roc_auc_score(y_test, y_test_pred)\n",
    "\n",
    "plt.plot([0, 1], [0, 1], color='navy', linestyle='--')\n",
    "plt.title('Receiver Operating Characteristic Curve')\n",
    "plt.xlabel('False Positive Rate')\n",
    "plt.ylabel('True Positive Rate')\n",
    "\n",
    "plt.plot(train_fpr, train_tpr, color='darkorange', label='Train ROC curve (area = %0.3f)' % train_roc_auc)\n",
    "plt.plot(test_fpr, test_tpr, color='darkgreen', label='Test ROC curve (area = %0.3f)' % test_roc_auc)\n",
    "plt.legend(loc=\"lower right\")\n",
    "plt.show()"
   ]
  },
  {
   "cell_type": "markdown",
   "metadata": {
    "id": "1HPQPznsNCC_"
   },
   "source": [
    "One way to check for overfitting through ROC curves is by **plotting Training and Testing ROC Curves and understanding the gap between the two**. If the **gap is large**, there are chances that the **model might be overfitted**.\n",
    "\n",
    "As we can see that **there isn't much difference between the ROC curves for training data and testing data**, we can conclude that the model is **not overfitting**."
   ]
  },
  {
   "cell_type": "markdown",
   "metadata": {},
   "source": [
    "### Saving the model"
   ]
  },
  {
   "cell_type": "code",
   "execution_count": 9,
   "metadata": {},
   "outputs": [],
   "source": [
    "import pickle\n",
    "\n",
    "with open('clf_task1.pkl', 'wb') as f:\n",
    "    pickle.dump(clf, f)"
   ]
  },
  {
   "cell_type": "code",
   "execution_count": null,
   "metadata": {},
   "outputs": [],
   "source": []
  }
 ],
 "metadata": {
  "accelerator": "GPU",
  "colab": {
   "name": "cgm_1.ipynb",
   "provenance": [],
   "toc_visible": true
  },
  "kernelspec": {
   "display_name": "Python 3",
   "language": "python",
   "name": "python3"
  },
  "language_info": {
   "codemirror_mode": {
    "name": "ipython",
    "version": 3
   },
   "file_extension": ".py",
   "mimetype": "text/x-python",
   "name": "python",
   "nbconvert_exporter": "python",
   "pygments_lexer": "ipython3",
   "version": "3.8.5"
  }
 },
 "nbformat": 4,
 "nbformat_minor": 1
}
